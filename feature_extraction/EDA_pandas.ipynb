{
 "cells": [
  {
   "cell_type": "code",
   "execution_count": 1,
   "id": "d605ecc1-c887-475c-9241-227b7ba20a81",
   "metadata": {},
   "outputs": [],
   "source": [
    "import requests\n",
    "import time\n",
    "import json\n",
    "import pandas as pd\n",
    "from tqdm import tqdm"
   ]
  },
  {
   "cell_type": "code",
   "execution_count": 2,
   "id": "a4baa030-4488-4d8c-849f-54ba739dd99e",
   "metadata": {},
   "outputs": [],
   "source": [
    "books = pd.read_csv(\"data\\Books.csv\", low_memory=False)"
   ]
  },
  {
   "cell_type": "code",
   "execution_count": 3,
   "id": "62346969-2a02-490c-aa67-0ed5fcc7bac5",
   "metadata": {},
   "outputs": [],
   "source": [
    "books = books.drop([\"Image-URL-S\", \"Image-URL-M\"], axis=1)\n",
    "books.rename(columns = {'Image-URL-L': 'Image-URL'}, inplace=True)"
   ]
  },
  {
   "cell_type": "code",
   "execution_count": 4,
   "id": "15bb3139-7b7a-4f4f-8823-d596fb3b4c3c",
   "metadata": {},
   "outputs": [],
   "source": [
    "# Fetch book information from Google Books API\n",
    "def get_book_info(isbn):\n",
    "    headers = {\n",
    "        'content-type': \"application/json\"\n",
    "    }\n",
    "    url = f\"https://www.googleapis.com/books/v1/volumes?q=isbn:{isbn}\"\n",
    "    delay = 5\n",
    "    \n",
    "    for _ in range(3):\n",
    "        time.sleep(delay)\n",
    "        response = requests.get(url, headers=headers)\n",
    "        \n",
    "        if response.status_code == 200:\n",
    "            data = response.json()\n",
    "            \n",
    "            if 'items' in data:\n",
    "                volume_info = data[\"items\"][0][\"volumeInfo\"]\n",
    "                description = volume_info.get(\"description\", \"\")\n",
    "                page_count = volume_info.get(\"pageCount\", 0)\n",
    "                categories = volume_info.get(\"categories\", [])\n",
    "                return description, page_count, categories\n",
    "            else:\n",
    "                return \"\", 0, []\n",
    "        else:\n",
    "            delay *= 2\n",
    "\n",
    "    return \"\", 0, []"
   ]
  },
  {
   "cell_type": "code",
   "execution_count": 5,
   "id": "47de65c2-eaa0-44e5-9f4e-93994c0ed434",
   "metadata": {},
   "outputs": [],
   "source": [
    "descriptions = []\n",
    "page_counts = []\n",
    "categories_list = []"
   ]
  },
  {
   "cell_type": "code",
   "execution_count": 6,
   "id": "ba67fcac-e8c8-4a7e-b95f-939d7730a09c",
   "metadata": {},
   "outputs": [
    {
     "name": "stderr",
     "output_type": "stream",
     "text": [
      "Fetching book details:   2%|▏         | 4758/271360 [9:45:36<546:53:20,  7.38s/it]     \n",
      "\n",
      "KeyboardInterrupt\n",
      "\n"
     ]
    }
   ],
   "source": [
    "for isbn in tqdm(books['ISBN'], desc='Fetching book details'):\n",
    "    description, page_count, categories = get_book_info(isbn)\n",
    "    descriptions.append(description)\n",
    "    page_counts.append(page_count)\n",
    "    categories_list.append(categories)"
   ]
  },
  {
   "cell_type": "code",
   "execution_count": null,
   "id": "4e42be7c-f221-4ea8-bbcd-80ad603c8b14",
   "metadata": {},
   "outputs": [],
   "source": [
    "books['Description'] = descriptions\n",
    "books['Page-Count'] = page_counts\n",
    "books['Categories'] = categories_list\n",
    "\n",
    "books.to_json('data\\books_data.json', orient='records', lines=True)"
   ]
  }
 ],
 "metadata": {
  "kernelspec": {
   "display_name": "BookRec",
   "language": "python",
   "name": "bookrec"
  },
  "language_info": {
   "codemirror_mode": {
    "name": "ipython",
    "version": 3
   },
   "file_extension": ".py",
   "mimetype": "text/x-python",
   "name": "python",
   "nbconvert_exporter": "python",
   "pygments_lexer": "ipython3",
   "version": "3.11.9"
  }
 },
 "nbformat": 4,
 "nbformat_minor": 5
}
